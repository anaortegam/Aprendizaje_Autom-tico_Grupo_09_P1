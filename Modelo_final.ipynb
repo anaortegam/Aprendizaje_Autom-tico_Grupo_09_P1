{
 "cells": [
  {
   "cell_type": "markdown",
   "metadata": {},
   "source": [
    "## MODELO FINAL"
   ]
  },
  {
   "cell_type": "markdown",
   "metadata": {},
   "source": [
    "·····································································································································································································································································\n",
    "Para nuestro modelo final vamos a utilizar un modelo de SVM radial que utiliza busqueda aleatoria para la optimización de hiperparámetros, utilizando en vez de valores particulares, valires con distribuciones estadísticas(loguniform).\n",
    "·····································································································································································································································································"
   ]
  },
  {
   "cell_type": "markdown",
   "metadata": {},
   "source": [
    "·····································································································································································································································································\n",
    "Al utiliar otro notebook hemos tenido que volver a realizar algunos procedimientos, como la eliminación de atributos y el modelo SVM_RADIAL con distribuciones estadísticas(el modelo seleccionado).\n",
    "·····································································································································································································································································"
   ]
  },
  {
   "cell_type": "markdown",
   "metadata": {},
   "source": [
    "----------------------------------------------------------------------------------------------------------------\n",
    "## IMPORTS\n",
    "----------------------------------------------------------------------------------------------------------------"
   ]
  },
  {
   "cell_type": "code",
   "execution_count": 12,
   "metadata": {},
   "outputs": [],
   "source": [
    "import pandas as pd\n",
    "import time\n",
    "from sklearn import metrics\n",
    "from sklearn.model_selection import train_test_split\n",
    "from mlxtend.plotting import plot_decision_regions\n",
    "import numpy as np\n",
    "from sklearn.preprocessing import MinMaxScaler, StandardScaler\n",
    "from sklearn.neighbors import KNeighborsRegressor\n",
    "from sklearn.metrics import mean_squared_error, mean_absolute_error, r2_score\n",
    "from sklearn.linear_model import LinearRegression\n",
    "from sklearn.pipeline import Pipeline\n",
    "from sklearn.compose import make_column_transformer\n",
    "from sklearn.linear_model import Ridge\n",
    "from sklearn.linear_model import RidgeCV\n",
    "from sklearn.linear_model import Lasso\n",
    "from sklearn.linear_model import LassoCV\n",
    "from scipy.stats import uniform\n",
    "from sklearn.model_selection import GridSearchCV\n",
    "from sklearn.metrics import accuracy_score\n",
    "from sklearn.preprocessing import OneHotEncoder\n",
    "from sklearn.svm import SVR\n",
    "from sklearn.ensemble import RandomForestRegressor, ExtraTreesRegressor\n",
    "from sklearn.model_selection import RandomizedSearchCV, KFold, GridSearchCV\n",
    "from sklearn.feature_selection import SelectKBest, f_regression\n",
    "from sklearn.pipeline import Pipeline\n",
    "from sklearn.inspection import permutation_importance\n",
    "from scipy.stats import randint as sp_randint\n",
    "from sklearn.inspection import permutation_importance\n",
    "import multiprocessing\n",
    "from scipy.stats import loguniform\n",
    "from sklearn.model_selection import RandomizedSearchCV"
   ]
  },
  {
   "cell_type": "markdown",
   "metadata": {},
   "source": [
    "----------------------------------------------------------------------------------------------------------------\n",
    "## CARGA Y ELIMINACIÓN DATOS\n",
    "----------------------------------------------------------------------------------------------------------------"
   ]
  },
  {
   "cell_type": "code",
   "execution_count": 13,
   "metadata": {},
   "outputs": [
    {
     "data": {
      "text/html": [
       "<div>\n",
       "<style scoped>\n",
       "    .dataframe tbody tr th:only-of-type {\n",
       "        vertical-align: middle;\n",
       "    }\n",
       "\n",
       "    .dataframe tbody tr th {\n",
       "        vertical-align: top;\n",
       "    }\n",
       "\n",
       "    .dataframe thead th {\n",
       "        text-align: right;\n",
       "    }\n",
       "</style>\n",
       "<table border=\"1\" class=\"dataframe\">\n",
       "  <thead>\n",
       "    <tr style=\"text-align: right;\">\n",
       "      <th></th>\n",
       "      <th>datetime</th>\n",
       "      <th>energy</th>\n",
       "      <th>p54.162.13</th>\n",
       "      <th>p55.162.13</th>\n",
       "      <th>cape.13</th>\n",
       "      <th>p59.162.13</th>\n",
       "      <th>lai_lv.13</th>\n",
       "      <th>lai_hv.13</th>\n",
       "      <th>u10n.13</th>\n",
       "      <th>v10n.13</th>\n",
       "      <th>...</th>\n",
       "      <th>t2m.13</th>\n",
       "      <th>stl2.13</th>\n",
       "      <th>stl3.13</th>\n",
       "      <th>iews.13</th>\n",
       "      <th>inss.13</th>\n",
       "      <th>stl4.13</th>\n",
       "      <th>fsr.13</th>\n",
       "      <th>flsr.13</th>\n",
       "      <th>u100.13</th>\n",
       "      <th>v100.13</th>\n",
       "    </tr>\n",
       "  </thead>\n",
       "  <tbody>\n",
       "    <tr>\n",
       "      <th>0</th>\n",
       "      <td>2005-01-02 18:00:00</td>\n",
       "      <td>402.71</td>\n",
       "      <td>2.510824e+06</td>\n",
       "      <td>9.186295</td>\n",
       "      <td>13.527577</td>\n",
       "      <td>1.386937e+06</td>\n",
       "      <td>2.344111</td>\n",
       "      <td>2.432983</td>\n",
       "      <td>-0.757587</td>\n",
       "      <td>-1.922799</td>\n",
       "      <td>...</td>\n",
       "      <td>280.473098</td>\n",
       "      <td>281.042026</td>\n",
       "      <td>281.462478</td>\n",
       "      <td>-0.057958</td>\n",
       "      <td>-0.138650</td>\n",
       "      <td>284.684755</td>\n",
       "      <td>0.404731</td>\n",
       "      <td>-5.927092</td>\n",
       "      <td>-1.780562</td>\n",
       "      <td>-4.443617</td>\n",
       "    </tr>\n",
       "    <tr>\n",
       "      <th>1</th>\n",
       "      <td>2005-01-03 00:00:00</td>\n",
       "      <td>696.80</td>\n",
       "      <td>2.513173e+06</td>\n",
       "      <td>8.849569</td>\n",
       "      <td>6.896412</td>\n",
       "      <td>1.153526e+06</td>\n",
       "      <td>2.343719</td>\n",
       "      <td>2.432838</td>\n",
       "      <td>-1.412620</td>\n",
       "      <td>-1.403011</td>\n",
       "      <td>...</td>\n",
       "      <td>278.286616</td>\n",
       "      <td>280.747406</td>\n",
       "      <td>281.486541</td>\n",
       "      <td>-0.103576</td>\n",
       "      <td>-0.083050</td>\n",
       "      <td>284.667948</td>\n",
       "      <td>0.404920</td>\n",
       "      <td>-5.913881</td>\n",
       "      <td>-3.743344</td>\n",
       "      <td>-3.129469</td>\n",
       "    </tr>\n",
       "    <tr>\n",
       "      <th>2</th>\n",
       "      <td>2005-01-03 06:00:00</td>\n",
       "      <td>1591.15</td>\n",
       "      <td>2.509627e+06</td>\n",
       "      <td>7.924080</td>\n",
       "      <td>4.774439</td>\n",
       "      <td>1.098754e+06</td>\n",
       "      <td>2.343300</td>\n",
       "      <td>2.432704</td>\n",
       "      <td>-2.290185</td>\n",
       "      <td>-0.754580</td>\n",
       "      <td>...</td>\n",
       "      <td>277.206490</td>\n",
       "      <td>280.114863</td>\n",
       "      <td>281.487095</td>\n",
       "      <td>-0.165721</td>\n",
       "      <td>-0.036241</td>\n",
       "      <td>284.651914</td>\n",
       "      <td>0.405704</td>\n",
       "      <td>-5.908272</td>\n",
       "      <td>-5.097203</td>\n",
       "      <td>-1.157748</td>\n",
       "    </tr>\n",
       "    <tr>\n",
       "      <th>3</th>\n",
       "      <td>2005-01-03 12:00:00</td>\n",
       "      <td>1338.62</td>\n",
       "      <td>2.510571e+06</td>\n",
       "      <td>6.922709</td>\n",
       "      <td>0.000000</td>\n",
       "      <td>1.076021e+06</td>\n",
       "      <td>2.342830</td>\n",
       "      <td>2.432514</td>\n",
       "      <td>-3.497855</td>\n",
       "      <td>1.271028</td>\n",
       "      <td>...</td>\n",
       "      <td>280.926600</td>\n",
       "      <td>279.991138</td>\n",
       "      <td>281.472435</td>\n",
       "      <td>-0.275550</td>\n",
       "      <td>0.098192</td>\n",
       "      <td>284.636266</td>\n",
       "      <td>0.403967</td>\n",
       "      <td>-5.961995</td>\n",
       "      <td>-4.500835</td>\n",
       "      <td>1.502478</td>\n",
       "    </tr>\n",
       "    <tr>\n",
       "      <th>4</th>\n",
       "      <td>2005-01-03 18:00:00</td>\n",
       "      <td>562.50</td>\n",
       "      <td>2.505664e+06</td>\n",
       "      <td>6.646282</td>\n",
       "      <td>0.000000</td>\n",
       "      <td>1.070830e+06</td>\n",
       "      <td>2.342437</td>\n",
       "      <td>2.432369</td>\n",
       "      <td>-0.971249</td>\n",
       "      <td>0.553060</td>\n",
       "      <td>...</td>\n",
       "      <td>277.363875</td>\n",
       "      <td>280.576898</td>\n",
       "      <td>281.473265</td>\n",
       "      <td>-0.056553</td>\n",
       "      <td>0.041844</td>\n",
       "      <td>284.620232</td>\n",
       "      <td>0.403808</td>\n",
       "      <td>-5.987860</td>\n",
       "      <td>-3.392324</td>\n",
       "      <td>2.131114</td>\n",
       "    </tr>\n",
       "  </tbody>\n",
       "</table>\n",
       "<p>5 rows × 24 columns</p>\n",
       "</div>"
      ],
      "text/plain": [
       "              datetime   energy    p54.162.13  p55.162.13    cape.13  \\\n",
       "0  2005-01-02 18:00:00   402.71  2.510824e+06    9.186295  13.527577   \n",
       "1  2005-01-03 00:00:00   696.80  2.513173e+06    8.849569   6.896412   \n",
       "2  2005-01-03 06:00:00  1591.15  2.509627e+06    7.924080   4.774439   \n",
       "3  2005-01-03 12:00:00  1338.62  2.510571e+06    6.922709   0.000000   \n",
       "4  2005-01-03 18:00:00   562.50  2.505664e+06    6.646282   0.000000   \n",
       "\n",
       "     p59.162.13  lai_lv.13  lai_hv.13   u10n.13   v10n.13  ...      t2m.13  \\\n",
       "0  1.386937e+06   2.344111   2.432983 -0.757587 -1.922799  ...  280.473098   \n",
       "1  1.153526e+06   2.343719   2.432838 -1.412620 -1.403011  ...  278.286616   \n",
       "2  1.098754e+06   2.343300   2.432704 -2.290185 -0.754580  ...  277.206490   \n",
       "3  1.076021e+06   2.342830   2.432514 -3.497855  1.271028  ...  280.926600   \n",
       "4  1.070830e+06   2.342437   2.432369 -0.971249  0.553060  ...  277.363875   \n",
       "\n",
       "      stl2.13     stl3.13   iews.13   inss.13     stl4.13    fsr.13   flsr.13  \\\n",
       "0  281.042026  281.462478 -0.057958 -0.138650  284.684755  0.404731 -5.927092   \n",
       "1  280.747406  281.486541 -0.103576 -0.083050  284.667948  0.404920 -5.913881   \n",
       "2  280.114863  281.487095 -0.165721 -0.036241  284.651914  0.405704 -5.908272   \n",
       "3  279.991138  281.472435 -0.275550  0.098192  284.636266  0.403967 -5.961995   \n",
       "4  280.576898  281.473265 -0.056553  0.041844  284.620232  0.403808 -5.987860   \n",
       "\n",
       "    u100.13   v100.13  \n",
       "0 -1.780562 -4.443617  \n",
       "1 -3.743344 -3.129469  \n",
       "2 -5.097203 -1.157748  \n",
       "3 -4.500835  1.502478  \n",
       "4 -3.392324  2.131114  \n",
       "\n",
       "[5 rows x 24 columns]"
      ]
     },
     "execution_count": 13,
     "metadata": {},
     "output_type": "execute_result"
    }
   ],
   "source": [
    "# Cargamos los datos en un data frame \n",
    "wind_ava = pd.read_csv('wind_ava.csv.gz', compression=\"gzip\")\n",
    "\n",
    "# Eliminar todos los datos que no corresponden a la localización 13\n",
    "\n",
    "wind_ava_13 = [col for col in wind_ava.columns if col == 'datetime' or col == 'energy' or col.endswith('.13')]\n",
    "df_filtered = wind_ava[wind_ava_13]\n",
    "\n",
    "df_filtered.head()"
   ]
  },
  {
   "cell_type": "code",
   "execution_count": 14,
   "metadata": {},
   "outputs": [],
   "source": [
    "df_filtered = df_filtered.drop('datetime', axis=1)"
   ]
  },
  {
   "cell_type": "code",
   "execution_count": 15,
   "metadata": {},
   "outputs": [
    {
     "name": "stdout",
     "output_type": "stream",
     "text": [
      "Variables a eliminar: ['lai_lv.13', 'lai_hv.13', 'iews.13', 'inss.13', 'fsr.13', 'flsr.13']\n",
      "(4748, 17)\n"
     ]
    }
   ],
   "source": [
    "numeric_columns = df_filtered.select_dtypes(include=['float64', 'int64'])\n",
    "varianza = numeric_columns.var()\n",
    "porcentaje_umbral = 0.0000000000001  # Eliminar variables cuya varianza sea menos del 0.0000000000001% \n",
    "umbral_varianza = varianza.max() * porcentaje_umbral\n",
    "variables_a_eliminar = varianza[varianza< umbral_varianza].index.tolist()\n",
    "print(\"Variables a eliminar:\", variables_a_eliminar)\n",
    "variance = df_filtered.select_dtypes(include=['float64', 'int64']).var()\n",
    "low_variance_columns = variance[variance < 0.2].index\n",
    "df_filtered = df_filtered.drop(columns=low_variance_columns)\n",
    "print(df_filtered.shape)"
   ]
  },
  {
   "cell_type": "code",
   "execution_count": 16,
   "metadata": {},
   "outputs": [
    {
     "name": "stdout",
     "output_type": "stream",
     "text": [
      "0        402.71\n",
      "1        696.80\n",
      "2       1591.15\n",
      "3       1338.62\n",
      "4        562.50\n",
      "         ...   \n",
      "4743    1280.13\n",
      "4744     855.00\n",
      "4745     117.06\n",
      "4746     516.96\n",
      "4747     867.07\n",
      "Name: energy, Length: 4748, dtype: float64\n",
      "        p54.162.13  p55.162.13    cape.13    p59.162.13   u10n.13   v10n.13  \\\n",
      "0     2.510824e+06    9.186295  13.527577  1.386937e+06 -0.757587 -1.922799   \n",
      "1     2.513173e+06    8.849569   6.896412  1.153526e+06 -1.412620 -1.403011   \n",
      "2     2.509627e+06    7.924080   4.774439  1.098754e+06 -2.290185 -0.754580   \n",
      "3     2.510571e+06    6.922709   0.000000  1.076021e+06 -3.497855  1.271028   \n",
      "4     2.505664e+06    6.646282   0.000000  1.070830e+06 -0.971249  0.553060   \n",
      "...            ...         ...        ...           ...       ...       ...   \n",
      "4743  2.385772e+06   14.413342  24.971074  3.905586e+06  4.595786  5.563189   \n",
      "4744  2.385708e+06   12.802883  60.248874  2.745694e+06  4.894838  5.577096   \n",
      "4745  2.379049e+06   10.915997   3.145067  2.254171e+06  0.958361  0.948029   \n",
      "4746  2.371697e+06   13.048144  12.580268  1.376913e+06  5.278912  0.771754   \n",
      "4747  2.369547e+06    9.172745   8.487892  1.356687e+06  4.578042  1.295018   \n",
      "\n",
      "             sp.13     stl1.13    u10.13    v10.13      t2m.13     stl2.13  \\\n",
      "0     99846.319914  280.960661 -0.906454 -2.709511  280.473098  281.042026   \n",
      "1     99917.733093  279.296651 -1.653843 -1.641837  278.286616  280.747406   \n",
      "2     99764.378681  278.233956 -2.580356 -0.793682  277.206490  280.114863   \n",
      "3     99672.670459  280.787263 -3.365262  1.227559  280.926600  279.991138   \n",
      "4     99372.811211  279.583112 -2.242707  1.320793  277.363875  280.576898   \n",
      "...            ...         ...       ...       ...         ...         ...   \n",
      "4743  95460.434452  281.680110  4.645265  5.621756  280.731326  282.643490   \n",
      "4744  95663.765406  282.842686  4.876985  5.562963  283.310687  282.370909   \n",
      "4745  95653.110509  282.027412  1.302978  1.425508  281.060085  282.425812   \n",
      "4746  95534.765044  280.814135  5.403688  0.808699  279.662858  281.153379   \n",
      "4747  95866.081608  279.805690  4.602967  1.312096  277.552154  281.046666   \n",
      "\n",
      "         stl3.13     stl4.13   u100.13   v100.13  \n",
      "0     281.462478  284.684755 -1.780562 -4.443617  \n",
      "1     281.486541  284.667948 -3.743344 -3.129469  \n",
      "2     281.487095  284.651914 -5.097203 -1.157748  \n",
      "3     281.472435  284.636266 -4.500835  1.502478  \n",
      "4     281.473265  284.620232 -3.392324  2.131114  \n",
      "...          ...         ...       ...       ...  \n",
      "4743  281.676560  286.013271  6.922743  9.179816  \n",
      "4744  281.761750  285.988737  7.434887  7.537381  \n",
      "4745  281.841961  285.968452  3.033799  3.568993  \n",
      "4746  281.976385  285.904895  8.374951  2.219422  \n",
      "4747  281.997129  285.884804  7.103223  1.883651  \n",
      "\n",
      "[4748 rows x 16 columns]\n"
     ]
    }
   ],
   "source": [
    "y_df = df_filtered['energy']\n",
    "print(y_df)\n",
    "X_df = df_filtered.drop('energy', axis=1)\n",
    "print(X_df)"
   ]
  },
  {
   "cell_type": "markdown",
   "metadata": {},
   "source": [
    "----------------------------------------------------------------------------------------------------------------\n",
    "## MODELO FINAL\n",
    "----------------------------------------------------------------------------------------------------------------"
   ]
  },
  {
   "cell_type": "code",
   "execution_count": 17,
   "metadata": {},
   "outputs": [],
   "source": [
    "def rmse(y_test, y_test_pred):\n",
    "  \"\"\" Este es mi cálculo del error cuadrático medio \"\"\"\n",
    "  return np.sqrt(metrics.mean_squared_error(y_test, y_test_pred))"
   ]
  },
  {
   "cell_type": "markdown",
   "metadata": {},
   "source": [
    "··········································································································································································································································································\n",
    "ENTRENAMIENTO MODELO\n",
    "··········································································································································································································································································"
   ]
  },
  {
   "cell_type": "code",
   "execution_count": 18,
   "metadata": {},
   "outputs": [
    {
     "name": "stdout",
     "output_type": "stream",
     "text": [
      "Tiempo de entrenamiento: 18.068214416503906\n"
     ]
    }
   ],
   "source": [
    "#Seleccionar la mejor alternativa de las evaluadas en los puntos anteriores. Modelo seleccionado.\n",
    "outer = KFold(n_splits=5, shuffle=True, random_state=23)\n",
    "X_train, X_test, y_train, y_test = train_test_split(X_df, y_df,test_size=0.33, random_state= 23)\n",
    "budget = 50\n",
    "inner = KFold(n_splits=3, shuffle=True, random_state=23)\n",
    "svr_radial = SVR()\n",
    "escalar = StandardScaler()\n",
    "pipe_regr_radial_def = Pipeline([\n",
    "    ('escalar', escalar),\n",
    "    ('SVM', svr_radial)])\n",
    "# Search space\n",
    "param_grid = {'SVM__C': loguniform(1e-1, 1e4),\n",
    "              'SVM__gamma': loguniform(1e-5, 1e1)}\n",
    "\n",
    "hpo_regr_radial = RandomizedSearchCV(pipe_regr_radial_def,\n",
    "                            param_grid,\n",
    "                            scoring='neg_mean_squared_error',\n",
    "                            cv=inner,\n",
    "                            n_jobs=4, verbose=0,\n",
    "                            n_iter=budget\n",
    "                        )\n",
    "start_time = time.time()\n",
    "np.random.seed(23)\n",
    "hpo_regr_radial.fit(X=X_train, y=y_train)\n",
    "rmse_svm_dist = rmse(y_test, hpo_regr_radial.predict(X=X_test))\n",
    "training_time_svm_dist_random = time.time() - start_time\n",
    "print(\"Tiempo de entrenamiento:\", training_time_svm_dist_random)\n"
   ]
  },
  {
   "cell_type": "markdown",
   "metadata": {},
   "source": [
    "··········································································································································································································································································\n",
    "Modelo final y evaluar el desempeño  futuro  del  modelo  (evaluación  outer).\n",
    "··········································································································································································································································································"
   ]
  },
  {
   "cell_type": "code",
   "execution_count": 19,
   "metadata": {},
   "outputs": [],
   "source": [
    "modelo_final = hpo_regr_radial.best_estimator_"
   ]
  },
  {
   "cell_type": "code",
   "execution_count": 20,
   "metadata": {},
   "outputs": [
    {
     "name": "stdout",
     "output_type": "stream",
     "text": [
      "Mean squared error: 369.24928844874387\n"
     ]
    }
   ],
   "source": [
    "# Estimar  el  rendimiento  /  desempeño  futuro  del  modelo  (evaluación  outer).\n",
    "from sklearn.model_selection import cross_val_score\n",
    "from sklearn.metrics import make_scorer, mean_squared_error\n",
    "\n",
    "scores = cross_val_score(modelo_final,\n",
    "                          X_train,\n",
    "                          y_train,\n",
    "                          scoring=make_scorer(rmse),\n",
    "                          cv=outer)\n",
    "\n",
    "# Print the scores or perform other evaluations\n",
    "print(\"Mean squared error:\", scores.mean())\n"
   ]
  },
  {
   "cell_type": "markdown",
   "metadata": {},
   "source": [
    "··········································································································································································································································································\n",
    "Entrenar modelo final y guardarlo en un fichero(modelo_final.pkl)\n",
    "··········································································································································································································································································"
   ]
  },
  {
   "cell_type": "code",
   "execution_count": 21,
   "metadata": {},
   "outputs": [],
   "source": [
    "import pickle\n",
    "#Entrenar el modelo final. Guardarlo en un fichero (llamado «modelo_final.pkl»).\n",
    "modelo_final.fit(X_df, y_df)\n",
    "with open(\"modelo_final.pkl\", \"wb\") as f:\n",
    "    pickle.dump(modelo_final, f)\n"
   ]
  },
  {
   "cell_type": "markdown",
   "metadata": {},
   "source": [
    "··········································································································································································································································································\n",
    "Utilizar el modelo final para obtener predicciones para el conjunto de datos de la competición.  Se guardan el predicciones.csv\n",
    "··········································································································································································································································································"
   ]
  },
  {
   "cell_type": "code",
   "execution_count": 22,
   "metadata": {},
   "outputs": [],
   "source": [
    "#Utilizar el modelo final para obtener predicciones para el conjunto de datos de la \n",
    "#competición.  Guardar estas predicciones en un fichero (llamado «predicciones.csv»)\n",
    "import pandas as pd\n",
    "from sklearn.preprocessing import StandardScaler\n",
    "import joblib\n",
    "# Cargar el conjunto de datos de competición\n",
    "wind_comp = pd.read_csv('wind_comp.csv.gz', compression=\"gzip\")\n",
    "\n",
    "# Filtrar los datos para retener solo la localización 13\n",
    "wind_comp_13 = [col for col in wind_comp.columns if col.endswith('.13')]\n",
    "df_comp_filtered = wind_comp[wind_comp_13]\n",
    "\n",
    "\n",
    "# Calcular la varianza de las características numéricas\n",
    "numeric_columns = df_comp_filtered.select_dtypes(include=['float64', 'int64'])\n",
    "variance = numeric_columns.var()\n",
    "\n",
    "# Definir umbral de varianza para eliminar características con varianza muy baja\n",
    "porcentaje_umbral = 0.0000000000001\n",
    "umbral_varianza = varianza.max() * porcentaje_umbral\n",
    "\n",
    "# Eliminar características con varianza muy baja\n",
    "variables_a_eliminar = variance[variance < umbral_varianza].index.tolist()\n",
    "df_comp_filtered = df_comp_filtered.drop(columns=variables_a_eliminar)\n",
    "\n",
    "# Cargar el modelo final desde el archivo modelo_final.pkl\n",
    "with open(\"modelo_final.pkl\", \"rb\") as f:\n",
    "    model_final = joblib.load(f)\n",
    "\n",
    "# Hacer predicciones en el conjunto de datos de competición\n",
    "predictions = model_final.predict(df_comp_filtered)\n",
    "\n",
    "# Guardar las predicciones en un archivo CSV llamado \"predicciones.csv\"\n",
    "predictions_df = pd.DataFrame(predictions, columns=[\"energy\"])\n",
    "predictions_df.to_csv(\"predicciones.csv\", index=False)"
   ]
  }
 ],
 "metadata": {
  "kernelspec": {
   "display_name": "Python 3",
   "language": "python",
   "name": "python3"
  },
  "language_info": {
   "codemirror_mode": {
    "name": "ipython",
    "version": 3
   },
   "file_extension": ".py",
   "mimetype": "text/x-python",
   "name": "python",
   "nbconvert_exporter": "python",
   "pygments_lexer": "ipython3",
   "version": "3.12.2"
  }
 },
 "nbformat": 4,
 "nbformat_minor": 2
}
